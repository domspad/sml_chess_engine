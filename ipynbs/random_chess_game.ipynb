{
 "metadata": {
  "name": ""
 },
 "nbformat": 3,
 "nbformat_minor": 0,
 "worksheets": [
  {
   "cells": [
    {
     "cell_type": "code",
     "collapsed": false,
     "input": [
      "import chess"
     ],
     "language": "python",
     "metadata": {},
     "outputs": [],
     "prompt_number": 1
    },
    {
     "cell_type": "code",
     "collapsed": false,
     "input": [
      "help(chess)"
     ],
     "language": "python",
     "metadata": {},
     "outputs": [
      {
       "output_type": "stream",
       "stream": "stdout",
       "text": [
        "Help on package chess:\n",
        "\n",
        "NAME\n",
        "    chess\n",
        "\n",
        "FILE\n",
        "    /Users/dominicspadacene/Desktop/chess/__init__.py\n",
        "\n",
        "DESCRIPTION\n",
        "    # -*- coding: utf-8 -*-\n",
        "    #\n",
        "    # This file is part of the python-chess library.\n",
        "    # Copyright (C) 2012-2014 Niklas Fiekas <niklas.fiekas@tu-clausthal.de>\n",
        "    #\n",
        "    # This program is free software: you can redistribute it and/or modify\n",
        "    # it under the terms of the GNU General Public License as published by\n",
        "    # the Free Software Foundation, either version 3 of the License, or\n",
        "    # (at your option) any later version.\n",
        "    #\n",
        "    # This program is distributed in the hope that it will be useful,\n",
        "    # but WITHOUT ANY WARRANTY; without even the implied warranty of\n",
        "    # MERCHANTABILITY or FITNESS FOR A PARTICULAR PURPOSE. See the\n",
        "    # GNU General Public License for more details.\n",
        "    #\n",
        "    # You should have received a copy of the GNU General Public License\n",
        "    # along with this program. If not, see <http://www.gnu.org/licenses/>.\n",
        "\n",
        "PACKAGE CONTENTS\n",
        "    pgn\n",
        "    polyglot\n",
        "\n",
        "CLASSES\n",
        "    __builtin__.object\n",
        "        Bitboard\n",
        "        LegalMoveGenerator\n",
        "        Move\n",
        "        Piece\n",
        "        PseudoLegalMoveGenerator\n",
        "        SquareSet\n",
        "    \n",
        "    class Bitboard(__builtin__.object)\n",
        "     |  A bitboard and additional information representing a position.\n",
        "     |  \n",
        "     |  Provides move generation, validation, parsing, attack generation,\n",
        "     |  game end detection, move counters and the capability to make and unmake\n",
        "     |  moves.\n",
        "     |  \n",
        "     |  The bitboard is initialized to the starting position, unless otherwise\n",
        "     |  specified in the optional `fen` argument.\n",
        "     |  \n",
        "     |  Methods defined here:\n",
        "     |  \n",
        "     |  __eq__(self, bitboard)\n",
        "     |  \n",
        "     |  __init__(self, fen=None)\n",
        "     |  \n",
        "     |  __ne__(self, bitboard)\n",
        "     |  \n",
        "     |  __repr__(self)\n",
        "     |  \n",
        "     |  __str__(self)\n",
        "     |  \n",
        "     |  attacker_mask(self, color, square)\n",
        "     |  \n",
        "     |  attackers(self, color, square)\n",
        "     |      Gets a set of attackers of the given color for the given square.\n",
        "     |      \n",
        "     |      Returns a set of squares.\n",
        "     |  \n",
        "     |  bishop_attacks_from(self, square)\n",
        "     |  \n",
        "     |  board_zobrist_hash(self, array=None)\n",
        "     |  \n",
        "     |  can_claim_draw(self)\n",
        "     |      Checks if the side to move can claim a draw by the fifty-move rule or\n",
        "     |      by threefold repitition.\n",
        "     |  \n",
        "     |  can_claim_fifty_moves(self)\n",
        "     |      Draw by the fifty-move rule can be claimed once the clock of halfmoves\n",
        "     |      since the last capture or pawn move becomes equal or greater to 100\n",
        "     |      and the side to move still has a legal move they can make.\n",
        "     |  \n",
        "     |  can_claim_threefold_repitition(self)\n",
        "     |      Draw by threefold repitition can be claimed if the position on the\n",
        "     |      board occured for the third time or if such a repitition is reached\n",
        "     |      with one of the possible legal moves.\n",
        "     |  \n",
        "     |  clear(self)\n",
        "     |      Clears the board.\n",
        "     |      \n",
        "     |      Resets move stacks and move counters. The side to move is white. There\n",
        "     |      are no rooks or kings, so castling is not allowed.\n",
        "     |      \n",
        "     |      In order to be in a valid `status()` at least kings need to be put on\n",
        "     |      the board. This is required for move generation and validation to work\n",
        "     |      properly.\n",
        "     |  \n",
        "     |  epd(self, **operations)\n",
        "     |      Gets an EPD representation of the current position.\n",
        "     |      \n",
        "     |      EPD operations can be given as keyword arguments. Supported operands\n",
        "     |      are strings, integers, floats and moves. All other operands are\n",
        "     |      converted to strings.\n",
        "     |      \n",
        "     |      `hmvc` and `fmvc` are *not* included by default. You can use:\n",
        "     |      \n",
        "     |      >>> board.epd(hmvc=board.halfmove_clock, fmvc=board.fullmove_number)\n",
        "     |      'rnbqkbnr/pppppppp/8/8/8/8/PPPPPPPP/RNBQKBNR w KQkq - hmvc 0; fmvc 1;'\n",
        "     |  \n",
        "     |  fen(self)\n",
        "     |      Gets the FEN representation of the position.\n",
        "     |  \n",
        "     |  generate_legal_moves(self, castling=True, pawns=True, knights=True, bishops=True, rooks=True, queens=True, king=True)\n",
        "     |  \n",
        "     |  generate_pseudo_legal_moves(self, castling=True, pawns=True, knights=True, bishops=True, rooks=True, queens=True, king=True)\n",
        "     |  \n",
        "     |  is_attacked_by(self, color, square)\n",
        "     |      Checks if the given side attacks the given square. Pinned pieces still\n",
        "     |      count as attackers.\n",
        "     |  \n",
        "     |  is_check(self)\n",
        "     |      Checks if the current side to move is in check.\n",
        "     |  \n",
        "     |  is_checkmate(self)\n",
        "     |      Checks if the current position is a checkmate.\n",
        "     |  \n",
        "     |  is_fivefold_repitition(self)\n",
        "     |      Since the first of July 2014 a game is automatically drawn (without\n",
        "     |      a claim by one of the players) if a position occurs for the fifth time\n",
        "     |      on consecutive alternating moves.\n",
        "     |  \n",
        "     |  is_game_over(self)\n",
        "     |      Checks if the game is over due to checkmate, stalemate, insufficient\n",
        "     |      mating material, the seventyfive-move rule or fivefold repitition.\n",
        "     |  \n",
        "     |  is_insufficient_material(self)\n",
        "     |      Checks for a draw due to insufficient mating material.\n",
        "     |  \n",
        "     |  is_into_check(self, move)\n",
        "     |      Checks if the given move would move would leave the king in check or\n",
        "     |      put it into check.\n",
        "     |  \n",
        "     |  is_legal(self, move)\n",
        "     |  \n",
        "     |  is_pseudo_legal(self, move)\n",
        "     |  \n",
        "     |  is_seventyfive_moves(self)\n",
        "     |      Since the first of July 2014 a game is automatically drawn (without\n",
        "     |      a claim by one of the players) if the half move clock since a capture\n",
        "     |      or pawn move is equal to or grather than 150. Other means to end a game\n",
        "     |      take precedence.\n",
        "     |  \n",
        "     |  is_stalemate(self)\n",
        "     |      Checks if the current position is a stalemate.\n",
        "     |  \n",
        "     |  king_attacks_from(self, square)\n",
        "     |  \n",
        "     |  knight_attacks_from(self, square)\n",
        "     |  \n",
        "     |  parse_san(self, san)\n",
        "     |      Uses the current position as the context to parse a move in standard\n",
        "     |      algebraic notation and return the corresponding move object.\n",
        "     |      \n",
        "     |      The returned move is guaranteed to be either legal or a null move.\n",
        "     |      \n",
        "     |      Raises `ValueError` if the SAN is invalid or ambigous.\n",
        "     |  \n",
        "     |  pawn_moves_from(self, square)\n",
        "     |  \n",
        "     |  peek(self)\n",
        "     |      Gets the last move from the move stack.\n",
        "     |  \n",
        "     |  piece_at(self, square)\n",
        "     |      Gets the piece at the given square.\n",
        "     |  \n",
        "     |  piece_type_at(self, square)\n",
        "     |      Gets the piece type at the given square.\n",
        "     |  \n",
        "     |  pop(self)\n",
        "     |      Restores the previous position and returns the last move from the stack.\n",
        "     |  \n",
        "     |  pseudo_legal_move_count(self)\n",
        "     |  \n",
        "     |  push(self, move)\n",
        "     |      Updates the position with the given move and puts it onto a stack.\n",
        "     |      \n",
        "     |      Null moves just increment the move counters, switch turns and forfeit\n",
        "     |      en passant capturing.\n",
        "     |      \n",
        "     |      No validation is performed. For performance moves are assumed to be at\n",
        "     |      least pseudo legal. Otherwise there is no guarantee that the previous\n",
        "     |      board state can be restored. To check it yourself you can use:\n",
        "     |      \n",
        "     |      >>> move in board.pseudo_legal_moves\n",
        "     |      True\n",
        "     |  \n",
        "     |  push_san(self, san)\n",
        "     |      Parses a move in standard algebraic notation, makes the move and puts\n",
        "     |      it on the the move stack.\n",
        "     |      \n",
        "     |      Raises `ValueError` if neither legal nor a null move.\n",
        "     |      \n",
        "     |      Returns the move.\n",
        "     |  \n",
        "     |  queen_attacks_from(self, square)\n",
        "     |  \n",
        "     |  remove_piece_at(self, square)\n",
        "     |      Removes a piece from the given square if present.\n",
        "     |  \n",
        "     |  reset(self)\n",
        "     |      Restores the starting position.\n",
        "     |  \n",
        "     |  rook_attacks_from(self, square)\n",
        "     |  \n",
        "     |  san(self, move)\n",
        "     |      Gets the standard algebraic notation of the given move in the context of\n",
        "     |      the current position.\n",
        "     |      \n",
        "     |      There is no validation. It is only guaranteed to work if the move is\n",
        "     |      legal or a null move.\n",
        "     |  \n",
        "     |  set_epd(self, epd)\n",
        "     |      Parses the given EPD string and uses it to set the position.\n",
        "     |      \n",
        "     |      If present the `hmvc` and the `fmvn` are used to set the half move\n",
        "     |      clock and the fullmove number. Otherwise `0` and `1` are used.\n",
        "     |      \n",
        "     |      Returns a dictionary of parsed operations. Values can be strings,\n",
        "     |      integers, floats or move objects.\n",
        "     |      \n",
        "     |      Raises `ValueError` if the EPD string is invalid.\n",
        "     |  \n",
        "     |  set_fen(self, fen)\n",
        "     |      Parses a FEN and sets the position from it.\n",
        "     |      \n",
        "     |      Rasies `ValueError` if the FEN string is invalid.\n",
        "     |  \n",
        "     |  set_piece_at(self, square, piece)\n",
        "     |      Sets a piece at the given square. An existing piece is replaced.\n",
        "     |  \n",
        "     |  status(self)\n",
        "     |      Gets a bitmask of possible problems with the position.\n",
        "     |      Move making, generation and validation are only guaranteed to work on\n",
        "     |      a completely valid board.\n",
        "     |  \n",
        "     |  was_into_check(self)\n",
        "     |      Checks if the king of the other side is attacked. Such a position is not\n",
        "     |      valid and could only be reached by an illegal move.\n",
        "     |  \n",
        "     |  zobrist_hash(self, array=None)\n",
        "     |      Returns a Zobrist hash of the current position.\n",
        "     |      \n",
        "     |      A zobrist hash is an exclusive or of pseudo random values picked from\n",
        "     |      an array. Which values are picked is decided by features of the\n",
        "     |      position, such as piece positions, castling rights and en-passant\n",
        "     |      squares. For this implementation an array of 781 values is required.\n",
        "     |      \n",
        "     |      The default behaviour is to use values from `POLYGLOT_RANDOM_ARRAY`,\n",
        "     |      which makes for hashes compatible with polyglot opening books.\n",
        "     |  \n",
        "     |  ----------------------------------------------------------------------\n",
        "     |  Data descriptors defined here:\n",
        "     |  \n",
        "     |  __dict__\n",
        "     |      dictionary for instance variables (if defined)\n",
        "     |  \n",
        "     |  __weakref__\n",
        "     |      list of weak references to the object (if defined)\n",
        "    \n",
        "    class LegalMoveGenerator(__builtin__.object)\n",
        "     |  Methods defined here:\n",
        "     |  \n",
        "     |  __bool__(self)\n",
        "     |  \n",
        "     |  __contains__(self, move)\n",
        "     |  \n",
        "     |  __init__(self, bitboard)\n",
        "     |  \n",
        "     |  __iter__(self)\n",
        "     |  \n",
        "     |  __len__(self)\n",
        "     |  \n",
        "     |  __nonzero__ = __bool__(self)\n",
        "     |  \n",
        "     |  ----------------------------------------------------------------------\n",
        "     |  Data descriptors defined here:\n",
        "     |  \n",
        "     |  __dict__\n",
        "     |      dictionary for instance variables (if defined)\n",
        "     |  \n",
        "     |  __weakref__\n",
        "     |      list of weak references to the object (if defined)\n",
        "    \n",
        "    class Move(__builtin__.object)\n",
        "     |  Represents a move from a square to a square and possibly the promotion piece\n",
        "     |  type.\n",
        "     |  \n",
        "     |  Castling moves are identified only by the movement of the king.\n",
        "     |  \n",
        "     |  Null moves are supported.\n",
        "     |  \n",
        "     |  Methods defined here:\n",
        "     |  \n",
        "     |  __bool__(self)\n",
        "     |  \n",
        "     |  __eq__(self, other)\n",
        "     |  \n",
        "     |  __hash__(self)\n",
        "     |  \n",
        "     |  __init__(self, from_square, to_square, promotion=0)\n",
        "     |  \n",
        "     |  __ne__(self, other)\n",
        "     |  \n",
        "     |  __nonzero__(self)\n",
        "     |  \n",
        "     |  __repr__(self)\n",
        "     |  \n",
        "     |  __str__(self)\n",
        "     |  \n",
        "     |  uci(self)\n",
        "     |      Gets an UCI string for the move.\n",
        "     |      \n",
        "     |      For example a move from A7 to A8 would be `a7a8` or `a7a8q` if it is\n",
        "     |      a promotion to a queen. The UCI representatin of null moves is `0000`.\n",
        "     |  \n",
        "     |  ----------------------------------------------------------------------\n",
        "     |  Class methods defined here:\n",
        "     |  \n",
        "     |  from_uci(cls, uci) from __builtin__.type\n",
        "     |      Parses an UCI string.\n",
        "     |      \n",
        "     |      Raises `ValueError` if the UCI string is invalid.\n",
        "     |  \n",
        "     |  null(cls) from __builtin__.type\n",
        "     |      Gets a null move.\n",
        "     |      \n",
        "     |      A null move just passes the turn to the other side (and possibly\n",
        "     |      forfeits en-passant capturing). Null moves evaluate to `False` in\n",
        "     |      boolean contexts.\n",
        "     |      \n",
        "     |      >>> bool(chess.Move.null())\n",
        "     |      False\n",
        "     |  \n",
        "     |  ----------------------------------------------------------------------\n",
        "     |  Data descriptors defined here:\n",
        "     |  \n",
        "     |  __dict__\n",
        "     |      dictionary for instance variables (if defined)\n",
        "     |  \n",
        "     |  __weakref__\n",
        "     |      list of weak references to the object (if defined)\n",
        "    \n",
        "    class Piece(__builtin__.object)\n",
        "     |  A piece with type and color.\n",
        "     |  \n",
        "     |  Methods defined here:\n",
        "     |  \n",
        "     |  __eq__(self, other)\n",
        "     |  \n",
        "     |  __hash__(self)\n",
        "     |  \n",
        "     |  __init__(self, piece_type, color)\n",
        "     |  \n",
        "     |  __ne__(self, other)\n",
        "     |  \n",
        "     |  __repr__(self)\n",
        "     |  \n",
        "     |  __str__(self)\n",
        "     |  \n",
        "     |  symbol(self)\n",
        "     |      Gets the symbol `P`, `N`, `B`, `R`, `Q` or `K` for white pieces or the\n",
        "     |      lower-case variants for the black pieces.\n",
        "     |  \n",
        "     |  ----------------------------------------------------------------------\n",
        "     |  Class methods defined here:\n",
        "     |  \n",
        "     |  from_symbol(cls, symbol) from __builtin__.type\n",
        "     |      Creates a piece instance from a piece symbol.\n",
        "     |      \n",
        "     |      Raises `ValueError` if the symbol is invalid.\n",
        "     |  \n",
        "     |  ----------------------------------------------------------------------\n",
        "     |  Data descriptors defined here:\n",
        "     |  \n",
        "     |  __dict__\n",
        "     |      dictionary for instance variables (if defined)\n",
        "     |  \n",
        "     |  __weakref__\n",
        "     |      list of weak references to the object (if defined)\n",
        "    \n",
        "    class PseudoLegalMoveGenerator(__builtin__.object)\n",
        "     |  Methods defined here:\n",
        "     |  \n",
        "     |  __bool__(self)\n",
        "     |  \n",
        "     |  __contains__(self, move)\n",
        "     |  \n",
        "     |  __init__(self, bitboard)\n",
        "     |  \n",
        "     |  __iter__(self)\n",
        "     |  \n",
        "     |  __len__(self)\n",
        "     |  \n",
        "     |  __nonzero__ = __bool__(self)\n",
        "     |  \n",
        "     |  ----------------------------------------------------------------------\n",
        "     |  Data descriptors defined here:\n",
        "     |  \n",
        "     |  __dict__\n",
        "     |      dictionary for instance variables (if defined)\n",
        "     |  \n",
        "     |  __weakref__\n",
        "     |      list of weak references to the object (if defined)\n",
        "    \n",
        "    class SquareSet(__builtin__.object)\n",
        "     |  Methods defined here:\n",
        "     |  \n",
        "     |  __and__(self, other)\n",
        "     |  \n",
        "     |  __bool__(self)\n",
        "     |  \n",
        "     |  __contains__(self, square)\n",
        "     |  \n",
        "     |  __eq__(self, other)\n",
        "     |  \n",
        "     |  __hash__(self)\n",
        "     |  \n",
        "     |  __hex__(self)\n",
        "     |  \n",
        "     |  __iand__(self, other)\n",
        "     |  \n",
        "     |  __ilshift__(self, shift)\n",
        "     |  \n",
        "     |  __index__(self)\n",
        "     |  \n",
        "     |  __init__(self, mask)\n",
        "     |  \n",
        "     |  __int__(self)\n",
        "     |  \n",
        "     |  __invert__(self)\n",
        "     |  \n",
        "     |  __ior__(self, other)\n",
        "     |  \n",
        "     |  __irshift__(self, shift)\n",
        "     |  \n",
        "     |  __iter__(self)\n",
        "     |  \n",
        "     |  __ixor__(self, other)\n",
        "     |  \n",
        "     |  __len__(self)\n",
        "     |  \n",
        "     |  __lshift__(self, shift)\n",
        "     |  \n",
        "     |  __ne__(self, other)\n",
        "     |  \n",
        "     |  __nonzero__ = __bool__(self)\n",
        "     |  \n",
        "     |  __oct__(self)\n",
        "     |  \n",
        "     |  __or__(self, other)\n",
        "     |  \n",
        "     |  __repr__(self)\n",
        "     |  \n",
        "     |  __rshift__(self, shift)\n",
        "     |  \n",
        "     |  __str__(self)\n",
        "     |  \n",
        "     |  __xor__(self, other)\n",
        "     |  \n",
        "     |  ----------------------------------------------------------------------\n",
        "     |  Data descriptors defined here:\n",
        "     |  \n",
        "     |  __dict__\n",
        "     |      dictionary for instance variables (if defined)\n",
        "     |  \n",
        "     |  __weakref__\n",
        "     |      list of weak references to the object (if defined)\n",
        "\n",
        "FUNCTIONS\n",
        "    bit_scan(b, n=0)\n",
        "    \n",
        "    file_index(square)\n",
        "        Gets the file index of square where `0` is the a file.\n",
        "    \n",
        "    l45(b)\n",
        "    \n",
        "    l90(b)\n",
        "    \n",
        "    pop_count(b)\n",
        "    \n",
        "    r45(b)\n",
        "    \n",
        "    rank_index(square)\n",
        "        Gets the rank index of the square where `0` is the first rank.\n",
        "    \n",
        "    shift_2_down(b)\n",
        "    \n",
        "    shift_2_left(b)\n",
        "    \n",
        "    shift_2_right(b)\n",
        "    \n",
        "    shift_2_up(b)\n",
        "    \n",
        "    shift_down(b)\n",
        "    \n",
        "    shift_down_left(b)\n",
        "    \n",
        "    shift_down_right(b)\n",
        "    \n",
        "    shift_left(b)\n",
        "    \n",
        "    shift_right(b)\n",
        "    \n",
        "    shift_up(b)\n",
        "    \n",
        "    shift_up_left(b)\n",
        "    \n",
        "    shift_up_right(b)\n",
        "\n",
        "DATA\n",
        "    A1 = 0\n",
        "    A2 = 8\n",
        "    A3 = 16\n",
        "    A4 = 24\n",
        "    A5 = 32\n",
        "    A6 = 40\n",
        "    A7 = 48\n",
        "    A8 = 56\n",
        "    B1 = 1\n",
        "    B2 = 9\n",
        "    B3 = 17\n",
        "    B4 = 25\n",
        "    B5 = 33\n",
        "    B6 = 41\n",
        "    B7 = 49\n",
        "    B8 = 57\n",
        "    BB_A1 = 1\n",
        "    BB_A2 = 256\n",
        "    BB_A3 = 65536\n",
        "    BB_A4 = 16777216\n",
        "    BB_A5 = 4294967296\n",
        "    BB_A6 = 1099511627776\n",
        "    BB_A7 = 281474976710656\n",
        "    BB_A8 = 72057594037927936\n",
        "    BB_ALL = 18446744073709551615L\n",
        "    BB_B1 = 2\n",
        "    BB_B2 = 512\n",
        "    BB_B3 = 131072\n",
        "    BB_B4 = 33554432\n",
        "    BB_B5 = 8589934592\n",
        "    BB_B6 = 2199023255552\n",
        "    BB_B7 = 562949953421312\n",
        "    BB_B8 = 144115188075855872\n",
        "    BB_C1 = 4\n",
        "    BB_C2 = 1024\n",
        "    BB_C3 = 262144\n",
        "    BB_C4 = 67108864\n",
        "    BB_C5 = 17179869184\n",
        "    BB_C6 = 4398046511104\n",
        "    BB_C7 = 1125899906842624\n",
        "    BB_C8 = 288230376151711744\n",
        "    BB_D1 = 8\n",
        "    BB_D2 = 2048\n",
        "    BB_D3 = 524288\n",
        "    BB_D4 = 134217728\n",
        "    BB_D5 = 34359738368\n",
        "    BB_D6 = 8796093022208\n",
        "    BB_D7 = 2251799813685248\n",
        "    BB_D8 = 576460752303423488\n",
        "    BB_DARK_SQUARES = 12273903644374837845L\n",
        "    BB_E1 = 16\n",
        "    BB_E2 = 4096\n",
        "    BB_E3 = 1048576\n",
        "    BB_E4 = 268435456\n",
        "    BB_E5 = 68719476736\n",
        "    BB_E6 = 17592186044416\n",
        "    BB_E7 = 4503599627370496\n",
        "    BB_E8 = 1152921504606846976\n",
        "    BB_F1 = 32\n",
        "    BB_F2 = 8192\n",
        "    BB_F3 = 2097152\n",
        "    BB_F4 = 536870912\n",
        "    BB_F5 = 137438953472\n",
        "    BB_F6 = 35184372088832\n",
        "    BB_F7 = 9007199254740992\n",
        "    BB_F8 = 2305843009213693952\n",
        "    BB_FILES = [72340172838076673, 144680345676153346, 289360691352306692,...\n",
        "    BB_FILE_A = 72340172838076673\n",
        "    BB_FILE_ATTACKS = [[72340172838076672, 282578800148736, 1103823438080,...\n",
        "    BB_FILE_B = 144680345676153346\n",
        "    BB_FILE_C = 289360691352306692\n",
        "    BB_FILE_D = 578721382704613384\n",
        "    BB_FILE_E = 1157442765409226768\n",
        "    BB_FILE_F = 2314885530818453536\n",
        "    BB_FILE_G = 4629771061636907072\n",
        "    BB_FILE_H = 9259542123273814144L\n",
        "    BB_G1 = 64\n",
        "    BB_G2 = 16384\n",
        "    BB_G3 = 4194304\n",
        "    BB_G4 = 1073741824\n",
        "    BB_G5 = 274877906944\n",
        "    BB_G6 = 70368744177664\n",
        "    BB_G7 = 18014398509481984\n",
        "    BB_G8 = 4611686018427387904\n",
        "    BB_H1 = 128\n",
        "    BB_H2 = 32768\n",
        "    BB_H3 = 8388608\n",
        "    BB_H4 = 2147483648\n",
        "    BB_H5 = 549755813888\n",
        "    BB_H6 = 140737488355328\n",
        "    BB_H7 = 36028797018963968\n",
        "    BB_H8 = 9223372036854775808L\n",
        "    BB_KING_ATTACKS = [770L, 1797L, 3594L, 7188L, 14376L, 28752L, 57504L, ...\n",
        "    BB_KNIGHT_ATTACKS = [132096L, 329728L, 659712L, 1319424L, 2638848L, 52...\n",
        "    BB_L45_ATTACKS = [[0, 0, 0, 0, 0, 0, 0, 0, 0, 0, 0, 0, 0, 0, 0, 0, 0, ...\n",
        "    BB_LIGHT_SQUARES = 6172840429334713770\n",
        "    BB_PAWN_ALL = [[66304L, 132864L, 265728L, 531456L, 1062912L, 2125824L,...\n",
        "    BB_PAWN_ATTACKS = [[512L, 1280L, 2560L, 5120L, 10240L, 20480L, 40960L,...\n",
        "    BB_PAWN_F1 = [[256L, 512L, 1024L, 2048L, 4096L, 8192L, 16384L, 32768L,...\n",
        "    BB_PAWN_F2 = [[65536L, 131072L, 262144L, 524288L, 1048576L, 2097152L, ...\n",
        "    BB_R45_ATTACKS = [[9241421688590303744L, 512, 262656, 512, 134480384, ...\n",
        "    BB_RANKS = [255, 65280, 16711680, 4278190080, 1095216660480, 280375465...\n",
        "    BB_RANK_1 = 255\n",
        "    BB_RANK_2 = 65280\n",
        "    BB_RANK_3 = 16711680\n",
        "    BB_RANK_4 = 4278190080\n",
        "    BB_RANK_5 = 1095216660480\n",
        "    BB_RANK_6 = 280375465082880\n",
        "    BB_RANK_7 = 71776119061217280\n",
        "    BB_RANK_8 = 18374686479671623680L\n",
        "    BB_RANK_ATTACKS = [[254, 2, 6, 2, 14, 2, 6, 2, 30, 2, 6, 2, 14, 2, 6, ...\n",
        "    BB_SHIFT_L45 = [9, 17, 25, 33, 41, 49, 57, 1, 17, 25, 33, 41, 49, 57, ...\n",
        "    BB_SHIFT_R45 = [1, 58, 51, 44, 37, 30, 23, 16, 9, 1, 58, 51, 44, 37, 3...\n",
        "    BB_SQUARES = [1, 2, 4, 8, 16, 32, 64, 128, 256, 512, 1024, 2048, 4096,...\n",
        "    BB_SQUARES_L45 = [256, 131072, 67108864, 34359738368, 17592186044416, ...\n",
        "    BB_SQUARES_L90 = [128, 32768, 8388608, 2147483648, 549755813888, 14073...\n",
        "    BB_SQUARES_R45 = [1, 144115188075855872, 1125899906842624, 87960930222...\n",
        "    BB_VOID = 0\n",
        "    BISHOP = 3\n",
        "    BLACK = 1\n",
        "    C1 = 2\n",
        "    C2 = 10\n",
        "    C3 = 18\n",
        "    C4 = 26\n",
        "    C5 = 34\n",
        "    C6 = 42\n",
        "    C7 = 50\n",
        "    C8 = 58\n",
        "    CASTLING = 15\n",
        "    CASTLING_BLACK = 10\n",
        "    CASTLING_BLACK_KINGSIDE = 2\n",
        "    CASTLING_BLACK_QUEENSIDE = 8\n",
        "    CASTLING_NONE = 0\n",
        "    CASTLING_WHITE = 5\n",
        "    CASTLING_WHITE_KINGSIDE = 1\n",
        "    CASTLING_WHITE_QUEENSIDE = 4\n",
        "    COLORS = [0, 1]\n",
        "    D1 = 3\n",
        "    D2 = 11\n",
        "    D3 = 19\n",
        "    D4 = 27\n",
        "    D5 = 35\n",
        "    D6 = 43\n",
        "    D7 = 51\n",
        "    D8 = 59\n",
        "    E1 = 4\n",
        "    E2 = 12\n",
        "    E3 = 20\n",
        "    E4 = 28\n",
        "    E5 = 36\n",
        "    E6 = 44\n",
        "    E7 = 52\n",
        "    E8 = 60\n",
        "    F1 = 5\n",
        "    F2 = 13\n",
        "    F3 = 21\n",
        "    F4 = 29\n",
        "    F5 = 37\n",
        "    F6 = 45\n",
        "    F7 = 53\n",
        "    F8 = 61\n",
        "    FEN_CASTLING_REGEX = <_sre.SRE_Pattern object>\n",
        "    FILE_NAMES = ['a', 'b', 'c', 'd', 'e', 'f', 'g', 'h']\n",
        "    G1 = 6\n",
        "    G2 = 14\n",
        "    G3 = 22\n",
        "    G4 = 30\n",
        "    G5 = 38\n",
        "    G6 = 46\n",
        "    G7 = 54\n",
        "    G8 = 62\n",
        "    H1 = 7\n",
        "    H2 = 15\n",
        "    H3 = 23\n",
        "    H4 = 31\n",
        "    H5 = 39\n",
        "    H6 = 47\n",
        "    H7 = 55\n",
        "    H8 = 63\n",
        "    KING = 6\n",
        "    KNIGHT = 2\n",
        "    NONE = 0\n",
        "    PAWN = 1\n",
        "    PIECE_SYMBOLS = ['', 'p', 'n', 'b', 'r', 'q', 'k']\n",
        "    PIECE_TYPES = [0, 1, 2, 3, 4, 5, 6]\n",
        "    POLYGLOT_RANDOM_ARRAY = [11329126462075137345L, 3096006490854172103, 4...\n",
        "    QUEEN = 5\n",
        "    ROOK = 4\n",
        "    SAN_REGEX = <_sre.SRE_Pattern object>\n",
        "    SQUARES = [0, 1, 2, 3, 4, 5, 6, 7, 8, 9, 10, 11, 12, 13, 14, 15, 16, 1...\n",
        "    SQUARES_180 = [56, 57, 58, 59, 60, 61, 62, 63, 48, 49, 50, 51, 52, 53,...\n",
        "    SQUARES_L45 = [8, 17, 26, 35, 44, 53, 62, 7, 16, 25, 34, 43, 52, 61, 6...\n",
        "    SQUARES_L90 = [7, 15, 23, 31, 39, 47, 55, 63, 6, 14, 22, 30, 38, 46, 5...\n",
        "    SQUARES_R45 = [0, 57, 50, 43, 36, 29, 22, 15, 8, 1, 58, 51, 44, 37, 30...\n",
        "    SQUARE_NAMES = ['a1', 'b1', 'c1', 'd1', 'e1', 'f1', 'g1', 'h1', 'a2', ...\n",
        "    STARTING_FEN = 'rnbqkbnr/pppppppp/8/8/8/8/PPPPPPPP/RNBQKBNR w KQkq - 0...\n",
        "    STATUS_BAD_CASTLING_RIGHTS = 256\n",
        "    STATUS_INVALID_EP_SQUARE = 512\n",
        "    STATUS_NO_BLACK_KING = 2\n",
        "    STATUS_NO_WHITE_KING = 1\n",
        "    STATUS_OPPOSITE_CHECK = 1024\n",
        "    STATUS_PAWNS_ON_BACKRANK = 32\n",
        "    STATUS_TOO_MANY_BLACK_PAWNS = 16\n",
        "    STATUS_TOO_MANY_BLACK_PIECES = 128\n",
        "    STATUS_TOO_MANY_KINGS = 4\n",
        "    STATUS_TOO_MANY_WHITE_PAWNS = 8\n",
        "    STATUS_TOO_MANY_WHITE_PIECES = 64\n",
        "    STATUS_VALID = 0\n",
        "    WHITE = 0\n",
        "    __author__ = 'Niklas Fiekas'\n",
        "    __email__ = 'niklas.fiekas@tu-clausthal.de'\n",
        "    __version__ = '0.6.0'\n",
        "    b = 63\n",
        "    bb_square = 9223372036854775808L\n",
        "    bitrow = 63\n",
        "    f = 6\n",
        "    i = 63\n",
        "    k = 63\n",
        "    mask = 18014398509481984\n",
        "    q = 54\n",
        "    r = 6\n",
        "    s = 9223372036854775808L\n",
        "    square = 63\n",
        "\n",
        "VERSION\n",
        "    0.6.0\n",
        "\n",
        "AUTHOR\n",
        "    Niklas Fiekas\n",
        "\n",
        "\n"
       ]
      }
     ],
     "prompt_number": 3
    },
    {
     "cell_type": "code",
     "collapsed": false,
     "input": [
      "board = chess.Bitboard()"
     ],
     "language": "python",
     "metadata": {},
     "outputs": [],
     "prompt_number": 4
    },
    {
     "cell_type": "code",
     "collapsed": false,
     "input": [
      "for move in board.legal_moves:\n",
      "    print move"
     ],
     "language": "python",
     "metadata": {},
     "outputs": [
      {
       "output_type": "stream",
       "stream": "stdout",
       "text": [
        "a2a3\n",
        "b2b3\n",
        "c2c3\n",
        "d2d3\n",
        "e2e3\n",
        "f2f3\n",
        "g2g3\n",
        "h2h3\n",
        "a2a4\n",
        "b2b4\n",
        "c2c4\n",
        "d2d4\n",
        "e2e4\n",
        "f2f4\n",
        "g2g4\n",
        "h2h4\n",
        "b1a3\n",
        "b1c3\n",
        "g1f3\n",
        "g1h3\n"
       ]
      }
     ],
     "prompt_number": 11
    },
    {
     "cell_type": "code",
     "collapsed": false,
     "input": [
      "board.push_san(\"e4\")"
     ],
     "language": "python",
     "metadata": {},
     "outputs": [
      {
       "metadata": {},
       "output_type": "pyout",
       "prompt_number": 29,
       "text": [
        "Move.from_uci('e2e4')"
       ]
      }
     ],
     "prompt_number": 29
    },
    {
     "cell_type": "code",
     "collapsed": false,
     "input": [
      "board.is_checkmate()"
     ],
     "language": "python",
     "metadata": {},
     "outputs": [
      {
       "metadata": {},
       "output_type": "pyout",
       "prompt_number": 33,
       "text": [
        "False"
       ]
      }
     ],
     "prompt_number": 33
    },
    {
     "cell_type": "code",
     "collapsed": false,
     "input": [
      "chess.Move.from_uci(\"e7e6\") in board.legal_moves"
     ],
     "language": "python",
     "metadata": {},
     "outputs": [
      {
       "metadata": {},
       "output_type": "pyout",
       "prompt_number": 36,
       "text": [
        "True"
       ]
      }
     ],
     "prompt_number": 36
    },
    {
     "cell_type": "code",
     "collapsed": false,
     "input": [
      "board.push_san(\"e7e6\")"
     ],
     "language": "python",
     "metadata": {},
     "outputs": [
      {
       "metadata": {},
       "output_type": "pyout",
       "prompt_number": 39,
       "text": [
        "Move.from_uci('e7e6')"
       ]
      }
     ],
     "prompt_number": 39
    },
    {
     "cell_type": "code",
     "collapsed": false,
     "input": [
      "board.is_check()"
     ],
     "language": "python",
     "metadata": {},
     "outputs": [
      {
       "metadata": {},
       "output_type": "pyout",
       "prompt_number": 41,
       "text": [
        "False"
       ]
      }
     ],
     "prompt_number": 41
    },
    {
     "cell_type": "code",
     "collapsed": false,
     "input": [
      "for i in board.move_stack:\n",
      "    print i"
     ],
     "language": "python",
     "metadata": {},
     "outputs": [
      {
       "output_type": "stream",
       "stream": "stdout",
       "text": [
        "e2e4\n",
        "e7e6\n"
       ]
      }
     ],
     "prompt_number": 46
    },
    {
     "cell_type": "code",
     "collapsed": false,
     "input": [
      "board.piece_at(chess.E8)"
     ],
     "language": "python",
     "metadata": {},
     "outputs": [
      {
       "metadata": {},
       "output_type": "pyout",
       "prompt_number": 52,
       "text": [
        "Piece.from_symbol('k')"
       ]
      }
     ],
     "prompt_number": 52
    },
    {
     "cell_type": "code",
     "collapsed": false,
     "input": [
      "for i in board.legal_moves:\n",
      "    print i"
     ],
     "language": "python",
     "metadata": {},
     "outputs": [
      {
       "output_type": "stream",
       "stream": "stdout",
       "text": [
        "a2a3\n",
        "b2b3\n",
        "c2c3\n",
        "d2d3\n",
        "f2f3\n",
        "g2g3\n",
        "h2h3\n",
        "e4e5\n",
        "a2a4\n",
        "b2b4\n",
        "c2c4\n",
        "d2d4\n",
        "f2f4\n",
        "g2g4\n",
        "h2h4\n",
        "b1a3\n",
        "b1c3\n",
        "g1e2\n",
        "g1f3\n",
        "g1h3\n",
        "f1e2\n",
        "f1d3\n",
        "f1c4\n",
        "f1b5\n",
        "f1a6\n",
        "d1e2\n",
        "d1f3\n",
        "d1g4\n",
        "d1h5\n",
        "e1e2\n"
       ]
      }
     ],
     "prompt_number": 53
    },
    {
     "cell_type": "code",
     "collapsed": false,
     "input": [
      "import random \n",
      "\n",
      "def rand_move(board) :\n",
      "    return random.choice(list(board.legal_moves))\n",
      "    \n",
      "def who_win(board) :\n",
      "    if board.is_checkmate() :\n",
      "        return {0: \"Black\", 1: \"White\"}[board.turn]\n",
      "    elif board.is_stalemate() :\n",
      "        return \"STALE\"\n",
      "    elif board.is_insufficient_material() :\n",
      "        return \"Insufficient material\"\n",
      "    else :\n",
      "        return \"draw for some other reason\"\n",
      "\n",
      "def append_result(res) :\n",
      "    if res[0] not in results :\n",
      "        results[res[0]] = [res[1]]\n",
      "    else :\n",
      "        results[res[0]].append(res[1])\n",
      "\n",
      "def simulate_game() :\n",
      "    board = chess.Bitboard()\n",
      "    while not board.is_game_over() :\n",
      "        move = rand_move(board)\n",
      "        board.push(move)\n",
      "    who = who_win(board)\n",
      "    halfmoves = len(board.move_stack)\n",
      "    return (who, halfmoves)"
     ],
     "language": "python",
     "metadata": {},
     "outputs": [],
     "prompt_number": 199
    },
    {
     "cell_type": "code",
     "collapsed": false,
     "input": [
      "results = {}\n",
      "\n",
      "for i in xrange(100) :\n",
      "    append_result(simulate_game())"
     ],
     "language": "python",
     "metadata": {},
     "outputs": [],
     "prompt_number": 202
    },
    {
     "cell_type": "code",
     "collapsed": false,
     "input": [
      "import numpy as np"
     ],
     "language": "python",
     "metadata": {},
     "outputs": [],
     "prompt_number": 204
    },
    {
     "cell_type": "code",
     "collapsed": false,
     "input": [
      "results.keys()"
     ],
     "language": "python",
     "metadata": {},
     "outputs": [
      {
       "metadata": {},
       "output_type": "pyout",
       "prompt_number": 211,
       "text": [
        "['White',\n",
        " 'draw for some other reason',\n",
        " 'Black',\n",
        " 'Insufficient material',\n",
        " 'STALE']"
       ]
      }
     ],
     "prompt_number": 211
    },
    {
     "cell_type": "code",
     "collapsed": false,
     "input": [
      "[(i,len(results[i])) for i in results.keys()]"
     ],
     "language": "python",
     "metadata": {},
     "outputs": [
      {
       "metadata": {},
       "output_type": "pyout",
       "prompt_number": 215,
       "text": [
        "[('White', 6),\n",
        " ('draw for some other reason', 10),\n",
        " ('Black', 7),\n",
        " ('Insufficient material', 69),\n",
        " ('STALE', 8)]"
       ]
      }
     ],
     "prompt_number": 215
    },
    {
     "cell_type": "code",
     "collapsed": false,
     "input": [
      "[(i,np.mean(results[i])) for i in results.keys()]"
     ],
     "language": "python",
     "metadata": {},
     "outputs": [
      {
       "metadata": {},
       "output_type": "pyout",
       "prompt_number": 214,
       "text": [
        "[('White', 217.33333333333334),\n",
        " ('draw for some other reason', 498.69999999999999),\n",
        " ('Black', 137.71428571428572),\n",
        " ('Insufficient material', 378.31884057971013),\n",
        " ('STALE', 287.125)]"
       ]
      }
     ],
     "prompt_number": 214
    },
    {
     "cell_type": "code",
     "collapsed": false,
     "input": [
      ">>> board.push_san(\"e4\")\n",
      ">>> board.push_san(\"e5\")\n",
      ">>> board.push_san(\"Qh5\")\n",
      ">>> board.push_san(\"Nc6\")\n",
      ">>> board.push_san(\"Bc4\")\n",
      ">>> board.push_san(\"Nf6\")\n",
      ">>> board.push_san(\"Qxf7\")"
     ],
     "language": "python",
     "metadata": {},
     "outputs": [
      {
       "metadata": {},
       "output_type": "pyout",
       "prompt_number": 78,
       "text": [
        "Move.from_uci('h5f7')"
       ]
      }
     ],
     "prompt_number": 78
    },
    {
     "cell_type": "code",
     "collapsed": false,
     "input": [
      "board.reset()"
     ],
     "language": "python",
     "metadata": {},
     "outputs": [],
     "prompt_number": 101
    },
    {
     "cell_type": "code",
     "collapsed": false,
     "input": [
      "board.turn"
     ],
     "language": "python",
     "metadata": {},
     "outputs": [
      {
       "metadata": {},
       "output_type": "pyout",
       "prompt_number": 102,
       "text": [
        "0"
       ]
      }
     ],
     "prompt_number": 102
    },
    {
     "cell_type": "code",
     "collapsed": false,
     "input": [],
     "language": "python",
     "metadata": {},
     "outputs": []
    },
    {
     "cell_type": "code",
     "collapsed": false,
     "input": [
      "chess.WHITE"
     ],
     "language": "python",
     "metadata": {},
     "outputs": [
      {
       "metadata": {},
       "output_type": "pyout",
       "prompt_number": 104,
       "text": [
        "0"
       ]
      }
     ],
     "prompt_number": 104
    },
    {
     "cell_type": "code",
     "collapsed": false,
     "input": [
      "board.is_checkmate()"
     ],
     "language": "python",
     "metadata": {},
     "outputs": [
      {
       "metadata": {},
       "output_type": "pyout",
       "prompt_number": 83,
       "text": [
        "True"
       ]
      }
     ],
     "prompt_number": 83
    },
    {
     "cell_type": "code",
     "collapsed": false,
     "input": [
      "board.is_stalemate()"
     ],
     "language": "python",
     "metadata": {},
     "outputs": [
      {
       "metadata": {},
       "output_type": "pyout",
       "prompt_number": 84,
       "text": [
        "False"
       ]
      }
     ],
     "prompt_number": 84
    },
    {
     "cell_type": "code",
     "collapsed": false,
     "input": [
      "board.is_game_over()"
     ],
     "language": "python",
     "metadata": {},
     "outputs": [
      {
       "metadata": {},
       "output_type": "pyout",
       "prompt_number": 92,
       "text": [
        "True"
       ]
      }
     ],
     "prompt_number": 92
    },
    {
     "cell_type": "code",
     "collapsed": false,
     "input": [
      "for i in board.legal_moves: print i"
     ],
     "language": "python",
     "metadata": {},
     "outputs": [],
     "prompt_number": 87
    },
    {
     "cell_type": "code",
     "collapsed": false,
     "input": [
      "len(list(board.legal_moves))"
     ],
     "language": "python",
     "metadata": {},
     "outputs": [
      {
       "metadata": {},
       "output_type": "pyout",
       "prompt_number": 89,
       "text": [
        "0"
       ]
      }
     ],
     "prompt_number": 89
    },
    {
     "cell_type": "code",
     "collapsed": false,
     "input": [],
     "language": "python",
     "metadata": {},
     "outputs": [
      {
       "metadata": {},
       "output_type": "pyout",
       "prompt_number": 194,
       "text": [
        "[]"
       ]
      }
     ],
     "prompt_number": 194
    },
    {
     "cell_type": "code",
     "collapsed": false,
     "input": [
      "d = {1:'a', 2'b'}"
     ],
     "language": "python",
     "metadata": {},
     "outputs": [],
     "prompt_number": 195
    },
    {
     "cell_type": "code",
     "collapsed": false,
     "input": [
      "\n",
      "def append_result(res) :\n",
      "    if res[0] not in results :\n",
      "        results[res[0]] = [res[1]]\n",
      "    else :\n",
      "        results[res[0]].append(res[1])"
     ],
     "language": "python",
     "metadata": {},
     "outputs": [
      {
       "ename": "SyntaxError",
       "evalue": "invalid syntax (<ipython-input-197-257cdbd34415>, line 4)",
       "output_type": "pyerr",
       "traceback": [
        "\u001b[0;36m  File \u001b[0;32m\"<ipython-input-197-257cdbd34415>\"\u001b[0;36m, line \u001b[0;32m4\u001b[0m\n\u001b[0;31m    results{res[0]} = [res[1]]\u001b[0m\n\u001b[0m           ^\u001b[0m\n\u001b[0;31mSyntaxError\u001b[0m\u001b[0;31m:\u001b[0m invalid syntax\n"
       ]
      }
     ],
     "prompt_number": 197
    },
    {
     "cell_type": "code",
     "collapsed": false,
     "input": [
      "simulate_game()"
     ],
     "language": "python",
     "metadata": {},
     "outputs": [
      {
       "metadata": {},
       "output_type": "pyout",
       "prompt_number": 192,
       "text": [
        "('draw for some other reason', 360)"
       ]
      }
     ],
     "prompt_number": 192
    },
    {
     "cell_type": "code",
     "collapsed": false,
     "input": [
      "board = chess.Bitboard()"
     ],
     "language": "python",
     "metadata": {},
     "outputs": [],
     "prompt_number": 156
    },
    {
     "cell_type": "code",
     "collapsed": false,
     "input": [
      "print board"
     ],
     "language": "python",
     "metadata": {},
     "outputs": [
      {
       "output_type": "stream",
       "stream": "stdout",
       "text": [
        "r n b q k b n r\n",
        "p p p p p p p p\n",
        ". . . . . . . .\n",
        ". . . . . . . .\n",
        ". . . . . . . .\n",
        ". . . . . . . .\n",
        "P P P P P P P P\n",
        "R N B Q K B N R\n"
       ]
      }
     ],
     "prompt_number": 131
    },
    {
     "cell_type": "code",
     "collapsed": false,
     "input": [
      "board.push_san(\"e4\")"
     ],
     "language": "python",
     "metadata": {},
     "outputs": [
      {
       "metadata": {},
       "output_type": "pyout",
       "prompt_number": 132,
       "text": [
        "Move.from_uci('e2e4')"
       ]
      }
     ],
     "prompt_number": 132
    },
    {
     "cell_type": "code",
     "collapsed": false,
     "input": [
      "print board"
     ],
     "language": "python",
     "metadata": {},
     "outputs": [
      {
       "output_type": "stream",
       "stream": "stdout",
       "text": [
        "r n b q k b n r\n",
        "p p p p p p p p\n",
        ". . . . . . . .\n",
        ". . . . . . . .\n",
        ". . . . P . . .\n",
        ". . . . . . . .\n",
        "P P P P . P P P\n",
        "R N B Q K B N R\n"
       ]
      }
     ],
     "prompt_number": 133
    },
    {
     "cell_type": "code",
     "collapsed": false,
     "input": [
      "board.push_san(\"d6\")"
     ],
     "language": "python",
     "metadata": {},
     "outputs": [
      {
       "metadata": {},
       "output_type": "pyout",
       "prompt_number": 134,
       "text": [
        "Move.from_uci('d7d6')"
       ]
      }
     ],
     "prompt_number": 134
    },
    {
     "cell_type": "code",
     "collapsed": false,
     "input": [
      "print board"
     ],
     "language": "python",
     "metadata": {},
     "outputs": [
      {
       "output_type": "stream",
       "stream": "stdout",
       "text": [
        "r n b q k b n r\n",
        "p p p . p p p p\n",
        ". . . p . . . .\n",
        ". . . . . . . .\n",
        ". . . . P . . .\n",
        ". . . . . . . .\n",
        "P P P P . P P P\n",
        "R N B Q K B N R\n"
       ]
      }
     ],
     "prompt_number": 135
    },
    {
     "cell_type": "code",
     "collapsed": false,
     "input": [
      "for i in board.move_stack:\n",
      "    print i"
     ],
     "language": "python",
     "metadata": {},
     "outputs": [
      {
       "output_type": "stream",
       "stream": "stdout",
       "text": [
        "e2e4\n",
        "d7d6\n"
       ]
      }
     ],
     "prompt_number": 138
    },
    {
     "cell_type": "code",
     "collapsed": false,
     "input": [
      "board = chess.Bitboard()\n",
      "while not board.is_game_over() :\n",
      "    move = rand_move(board)\n",
      "    board.push(move)\n",
      "print who_win(board)\n",
      "print len(board.move_stack)\n"
     ],
     "language": "python",
     "metadata": {},
     "outputs": [
      {
       "output_type": "stream",
       "stream": "stdout",
       "text": [
        "Insufficient material\n",
        "298\n"
       ]
      }
     ],
     "prompt_number": 182
    },
    {
     "cell_type": "code",
     "collapsed": false,
     "input": [
      "a = simulate_game()"
     ],
     "language": "python",
     "metadata": {},
     "outputs": [
      {
       "output_type": "stream",
       "stream": "stdout",
       "text": [
        "Insufficient material\n",
        "257\n"
       ]
      }
     ],
     "prompt_number": 186
    },
    {
     "cell_type": "code",
     "collapsed": false,
     "input": [],
     "language": "python",
     "metadata": {},
     "outputs": [
      {
       "output_type": "stream",
       "stream": "stdout",
       "text": [
        "None\n"
       ]
      }
     ],
     "prompt_number": 189
    },
    {
     "cell_type": "code",
     "collapsed": false,
     "input": [
      "board.can_claim_fifty_moves()"
     ],
     "language": "python",
     "metadata": {},
     "outputs": [
      {
       "metadata": {},
       "output_type": "pyout",
       "prompt_number": 162,
       "text": [
        "True"
       ]
      }
     ],
     "prompt_number": 162
    },
    {
     "cell_type": "code",
     "collapsed": false,
     "input": [],
     "language": "python",
     "metadata": {},
     "outputs": []
    }
   ],
   "metadata": {}
  }
 ]
}